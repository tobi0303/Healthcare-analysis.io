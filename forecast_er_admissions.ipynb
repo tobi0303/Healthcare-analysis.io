{
 "cells": [
  {
   "cell_type": "code",
   "execution_count": 1,
   "id": "83ca81ce",
   "metadata": {},
   "outputs": [
    {
     "name": "stderr",
     "output_type": "stream",
     "text": [
      "d:\\Ecommerce\\venv\\Lib\\site-packages\\tqdm\\auto.py:21: TqdmWarning: IProgress not found. Please update jupyter and ipywidgets. See https://ipywidgets.readthedocs.io/en/stable/user_install.html\n",
      "  from .autonotebook import tqdm as notebook_tqdm\n",
      "Importing plotly failed. Interactive plots will not work.\n",
      "21:11:43 - cmdstanpy - INFO - Chain [1] start processing\n",
      "21:11:43 - cmdstanpy - INFO - Chain [1] done processing\n",
      "21:11:43 - cmdstanpy - ERROR - Chain [1] error: terminated by signal 3221225657 \n",
      "Optimization terminated abnormally. Falling back to Newton.\n",
      "21:11:43 - cmdstanpy - INFO - Chain [1] start processing\n",
      "21:11:43 - cmdstanpy - INFO - Chain [1] done processing\n",
      "21:11:43 - cmdstanpy - ERROR - Chain [1] error: terminated by signal 3221225657 \n"
     ]
    },
    {
     "ename": "RuntimeError",
     "evalue": "Error during optimization! Command 'D:\\Ecommerce\\venv\\Lib\\site-packages\\prophet\\stan_model\\prophet_model.bin random seed=95007 data file=C:\\Users\\ASUS\\AppData\\Local\\Temp\\tmpwcjo08nd\\5_r58bgq.json init=C:\\Users\\ASUS\\AppData\\Local\\Temp\\tmpwcjo08nd\\ph86f83l.json output file=C:\\Users\\ASUS\\AppData\\Local\\Temp\\tmpwcjo08nd\\prophet_modelqj0y4pa_\\prophet_model-20250728211143.csv method=optimize algorithm=newton iter=10000' failed: ",
     "output_type": "error",
     "traceback": [
      "\u001b[31m---------------------------------------------------------------------------\u001b[39m",
      "\u001b[31mRuntimeError\u001b[39m                              Traceback (most recent call last)",
      "\u001b[36mFile \u001b[39m\u001b[32md:\\Ecommerce\\venv\\Lib\\site-packages\\prophet\\models.py:126\u001b[39m, in \u001b[36mCmdStanPyBackend.fit\u001b[39m\u001b[34m(self, stan_init, stan_data, **kwargs)\u001b[39m\n\u001b[32m    125\u001b[39m \u001b[38;5;28;01mtry\u001b[39;00m:\n\u001b[32m--> \u001b[39m\u001b[32m126\u001b[39m     \u001b[38;5;28mself\u001b[39m.stan_fit = \u001b[38;5;28;43mself\u001b[39;49m\u001b[43m.\u001b[49m\u001b[43mmodel\u001b[49m\u001b[43m.\u001b[49m\u001b[43moptimize\u001b[49m\u001b[43m(\u001b[49m\u001b[43m*\u001b[49m\u001b[43m*\u001b[49m\u001b[43margs\u001b[49m\u001b[43m)\u001b[49m\n\u001b[32m    127\u001b[39m \u001b[38;5;28;01mexcept\u001b[39;00m \u001b[38;5;167;01mRuntimeError\u001b[39;00m \u001b[38;5;28;01mas\u001b[39;00m e:\n\u001b[32m    128\u001b[39m     \u001b[38;5;66;03m# Fall back on Newton\u001b[39;00m\n",
      "\u001b[36mFile \u001b[39m\u001b[32md:\\Ecommerce\\venv\\Lib\\site-packages\\cmdstanpy\\model.py:659\u001b[39m, in \u001b[36mCmdStanModel.optimize\u001b[39m\u001b[34m(self, data, seed, inits, output_dir, sig_figs, save_profile, algorithm, init_alpha, tol_obj, tol_rel_obj, tol_grad, tol_rel_grad, tol_param, history_size, iter, save_iterations, require_converged, show_console, refresh, time_fmt, timeout, jacobian)\u001b[39m\n\u001b[32m    658\u001b[39m     \u001b[38;5;28;01melse\u001b[39;00m:\n\u001b[32m--> \u001b[39m\u001b[32m659\u001b[39m         \u001b[38;5;28;01mraise\u001b[39;00m \u001b[38;5;167;01mRuntimeError\u001b[39;00m(msg)\n\u001b[32m    660\u001b[39m mle = CmdStanMLE(runset)\n",
      "\u001b[31mRuntimeError\u001b[39m: Error during optimization! Command 'D:\\Ecommerce\\venv\\Lib\\site-packages\\prophet\\stan_model\\prophet_model.bin random seed=32198 data file=C:\\Users\\ASUS\\AppData\\Local\\Temp\\tmpwcjo08nd\\bo9gguas.json init=C:\\Users\\ASUS\\AppData\\Local\\Temp\\tmpwcjo08nd\\fkgw4qs8.json output file=C:\\Users\\ASUS\\AppData\\Local\\Temp\\tmpwcjo08nd\\prophet_model3zhg0081\\prophet_model-20250728211143.csv method=optimize algorithm=lbfgs iter=10000' failed: ",
      "\nDuring handling of the above exception, another exception occurred:\n",
      "\u001b[31mRuntimeError\u001b[39m                              Traceback (most recent call last)",
      "\u001b[36mCell\u001b[39m\u001b[36m \u001b[39m\u001b[32mIn[1]\u001b[39m\u001b[32m, line 21\u001b[39m\n\u001b[32m     19\u001b[39m \u001b[38;5;66;03m# Initialize and fit Prophet model\u001b[39;00m\n\u001b[32m     20\u001b[39m model = Prophet(daily_seasonality=\u001b[38;5;28;01mTrue\u001b[39;00m, yearly_seasonality=\u001b[38;5;28;01mTrue\u001b[39;00m)\n\u001b[32m---> \u001b[39m\u001b[32m21\u001b[39m \u001b[43mmodel\u001b[49m\u001b[43m.\u001b[49m\u001b[43mfit\u001b[49m\u001b[43m(\u001b[49m\u001b[43mdaily_df\u001b[49m\u001b[43m)\u001b[49m\n\u001b[32m     23\u001b[39m \u001b[38;5;66;03m# Make future dataframe for next 30 days\u001b[39;00m\n\u001b[32m     24\u001b[39m future = model.make_future_dataframe(periods=\u001b[32m30\u001b[39m)\n",
      "\u001b[36mFile \u001b[39m\u001b[32md:\\Ecommerce\\venv\\Lib\\site-packages\\prophet\\forecaster.py:1235\u001b[39m, in \u001b[36mProphet.fit\u001b[39m\u001b[34m(self, df, **kwargs)\u001b[39m\n\u001b[32m   1233\u001b[39m     \u001b[38;5;28mself\u001b[39m.params = \u001b[38;5;28mself\u001b[39m.stan_backend.sampling(stan_init, dat, \u001b[38;5;28mself\u001b[39m.mcmc_samples, **kwargs)\n\u001b[32m   1234\u001b[39m \u001b[38;5;28;01melse\u001b[39;00m:\n\u001b[32m-> \u001b[39m\u001b[32m1235\u001b[39m     \u001b[38;5;28mself\u001b[39m.params = \u001b[38;5;28;43mself\u001b[39;49m\u001b[43m.\u001b[49m\u001b[43mstan_backend\u001b[49m\u001b[43m.\u001b[49m\u001b[43mfit\u001b[49m\u001b[43m(\u001b[49m\u001b[43mstan_init\u001b[49m\u001b[43m,\u001b[49m\u001b[43m \u001b[49m\u001b[43mdat\u001b[49m\u001b[43m,\u001b[49m\u001b[43m \u001b[49m\u001b[43m*\u001b[49m\u001b[43m*\u001b[49m\u001b[43mkwargs\u001b[49m\u001b[43m)\u001b[49m\n\u001b[32m   1237\u001b[39m \u001b[38;5;28mself\u001b[39m.stan_fit = \u001b[38;5;28mself\u001b[39m.stan_backend.stan_fit\n\u001b[32m   1238\u001b[39m \u001b[38;5;66;03m# If no changepoints were requested, replace delta with 0s\u001b[39;00m\n",
      "\u001b[36mFile \u001b[39m\u001b[32md:\\Ecommerce\\venv\\Lib\\site-packages\\prophet\\models.py:133\u001b[39m, in \u001b[36mCmdStanPyBackend.fit\u001b[39m\u001b[34m(self, stan_init, stan_data, **kwargs)\u001b[39m\n\u001b[32m    131\u001b[39m     logger.warning(\u001b[33m'\u001b[39m\u001b[33mOptimization terminated abnormally. Falling back to Newton.\u001b[39m\u001b[33m'\u001b[39m)\n\u001b[32m    132\u001b[39m     args[\u001b[33m'\u001b[39m\u001b[33malgorithm\u001b[39m\u001b[33m'\u001b[39m] = \u001b[33m'\u001b[39m\u001b[33mNewton\u001b[39m\u001b[33m'\u001b[39m\n\u001b[32m--> \u001b[39m\u001b[32m133\u001b[39m     \u001b[38;5;28mself\u001b[39m.stan_fit = \u001b[38;5;28;43mself\u001b[39;49m\u001b[43m.\u001b[49m\u001b[43mmodel\u001b[49m\u001b[43m.\u001b[49m\u001b[43moptimize\u001b[49m\u001b[43m(\u001b[49m\u001b[43m*\u001b[49m\u001b[43m*\u001b[49m\u001b[43margs\u001b[49m\u001b[43m)\u001b[49m\n\u001b[32m    134\u001b[39m params = \u001b[38;5;28mself\u001b[39m.stan_to_dict_numpy(\n\u001b[32m    135\u001b[39m     \u001b[38;5;28mself\u001b[39m.stan_fit.column_names, \u001b[38;5;28mself\u001b[39m.stan_fit.optimized_params_np)\n\u001b[32m    136\u001b[39m \u001b[38;5;28;01mfor\u001b[39;00m par \u001b[38;5;129;01min\u001b[39;00m params:\n",
      "\u001b[36mFile \u001b[39m\u001b[32md:\\Ecommerce\\venv\\Lib\\site-packages\\cmdstanpy\\model.py:659\u001b[39m, in \u001b[36mCmdStanModel.optimize\u001b[39m\u001b[34m(self, data, seed, inits, output_dir, sig_figs, save_profile, algorithm, init_alpha, tol_obj, tol_rel_obj, tol_grad, tol_rel_grad, tol_param, history_size, iter, save_iterations, require_converged, show_console, refresh, time_fmt, timeout, jacobian)\u001b[39m\n\u001b[32m    657\u001b[39m         get_logger().warning(msg)\n\u001b[32m    658\u001b[39m     \u001b[38;5;28;01melse\u001b[39;00m:\n\u001b[32m--> \u001b[39m\u001b[32m659\u001b[39m         \u001b[38;5;28;01mraise\u001b[39;00m \u001b[38;5;167;01mRuntimeError\u001b[39;00m(msg)\n\u001b[32m    660\u001b[39m mle = CmdStanMLE(runset)\n\u001b[32m    661\u001b[39m \u001b[38;5;28;01mreturn\u001b[39;00m mle\n",
      "\u001b[31mRuntimeError\u001b[39m: Error during optimization! Command 'D:\\Ecommerce\\venv\\Lib\\site-packages\\prophet\\stan_model\\prophet_model.bin random seed=95007 data file=C:\\Users\\ASUS\\AppData\\Local\\Temp\\tmpwcjo08nd\\5_r58bgq.json init=C:\\Users\\ASUS\\AppData\\Local\\Temp\\tmpwcjo08nd\\ph86f83l.json output file=C:\\Users\\ASUS\\AppData\\Local\\Temp\\tmpwcjo08nd\\prophet_modelqj0y4pa_\\prophet_model-20250728211143.csv method=optimize algorithm=newton iter=10000' failed: "
     ]
    }
   ],
   "source": [
    "\n",
    "import warnings\n",
    "warnings.filterwarnings(\"ignore\", message=\"Importing plotly failed\")\n",
    "\n",
    "# forecast.py\n",
    "import pandas as pd\n",
    "from prophet import Prophet\n",
    "import matplotlib.pyplot as plt\n",
    "\n",
    "model = Prophet\n",
    "\n",
    "# Load data\n",
    "df = pd.read_csv(\"er_admissions.csv\", parse_dates=['timestamp'])\n",
    "\n",
    "# Aggregate daily admissions\n",
    "daily_df = df.groupby(df['timestamp'].dt.date).size().reset_index(name='y')\n",
    "daily_df.rename(columns={'timestamp': 'ds'}, inplace=True)\n",
    "daily_df['ds'] = pd.to_datetime(daily_df['ds'])\n",
    "\n",
    "# Initialize and fit Prophet model\n",
    "model = Prophet(daily_seasonality=True, yearly_seasonality=True)\n",
    "model.fit(daily_df)\n",
    "\n",
    "# Make future dataframe for next 30 days\n",
    "future = model.make_future_dataframe(periods=30)\n",
    "forecast = model.predict(future)\n",
    "\n",
    "# Plot forecast\n",
    "fig = model.plot(forecast)\n",
    "plt.title(\"Forecasted Daily ER Admissions\")\n",
    "plt.xlabel(\"Date\")\n",
    "plt.ylabel(\"Admissions\")\n",
    "plt.tight_layout()\n",
    "fig.savefig(\"forecast_er_admissions.png\")\n",
    "plt.close()\n"
   ]
  }
 ],
 "metadata": {
  "kernelspec": {
   "display_name": "venv (3.11.0)",
   "language": "python",
   "name": "python3"
  },
  "language_info": {
   "codemirror_mode": {
    "name": "ipython",
    "version": 3
   },
   "file_extension": ".py",
   "mimetype": "text/x-python",
   "name": "python",
   "nbconvert_exporter": "python",
   "pygments_lexer": "ipython3",
   "version": "3.11.0"
  }
 },
 "nbformat": 4,
 "nbformat_minor": 5
}
